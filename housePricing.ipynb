{
 "cells": [
  {
   "cell_type": "markdown",
   "metadata": {},
   "source": [
    "# Prédiction des prix des maisons"
   ]
  },
  {
   "cell_type": "code",
   "execution_count": 89,
   "metadata": {},
   "outputs": [
    {
     "name": "stdout",
     "output_type": "stream",
     "text": [
      "Index(['Id', 'MSSubClass', 'MSZoning', 'LotFrontage', 'LotArea', 'Street',\n",
      "       'Alley', 'LotShape', 'LandContour', 'Utilities', 'LotConfig',\n",
      "       'LandSlope', 'Neighborhood', 'Condition1', 'Condition2', 'BldgType',\n",
      "       'HouseStyle', 'OverallQual', 'OverallCond', 'YearBuilt', 'YearRemodAdd',\n",
      "       'RoofStyle', 'RoofMatl', 'Exterior1st', 'Exterior2nd', 'MasVnrType',\n",
      "       'MasVnrArea', 'ExterQual', 'ExterCond', 'Foundation', 'BsmtQual',\n",
      "       'BsmtCond', 'BsmtExposure', 'BsmtFinType1', 'BsmtFinSF1',\n",
      "       'BsmtFinType2', 'BsmtFinSF2', 'BsmtUnfSF', 'TotalBsmtSF', 'Heating',\n",
      "       'HeatingQC', 'CentralAir', 'Electrical', '1stFlrSF', '2ndFlrSF',\n",
      "       'LowQualFinSF', 'GrLivArea', 'BsmtFullBath', 'BsmtHalfBath', 'FullBath',\n",
      "       'HalfBath', 'BedroomAbvGr', 'KitchenAbvGr', 'KitchenQual',\n",
      "       'TotRmsAbvGrd', 'Functional', 'Fireplaces', 'FireplaceQu', 'GarageType',\n",
      "       'GarageYrBlt', 'GarageFinish', 'GarageCars', 'GarageArea', 'GarageQual',\n",
      "       'GarageCond', 'PavedDrive', 'WoodDeckSF', 'OpenPorchSF',\n",
      "       'EnclosedPorch', '3SsnPorch', 'ScreenPorch', 'PoolArea', 'PoolQC',\n",
      "       'Fence', 'MiscFeature', 'MiscVal', 'MoSold', 'YrSold', 'SaleType',\n",
      "       'SaleCondition', 'SalePrice'],\n",
      "      dtype='object')\n"
     ]
    },
    {
     "data": {
      "text/plain": [
       "(1460, 81)"
      ]
     },
     "execution_count": 89,
     "metadata": {},
     "output_type": "execute_result"
    }
   ],
   "source": [
    "# chargement des données \n",
    "import pandas as pd \n",
    "htrain = pd.read_csv('hprice_train.csv')\n",
    "#print(htrain.head())\n",
    "print(htrain.columns)\n",
    "htrain.shape\n"
   ]
  },
  {
   "cell_type": "code",
   "execution_count": 159,
   "metadata": {},
   "outputs": [
    {
     "name": "stdout",
     "output_type": "stream",
     "text": [
      "Index(['MSSubClass', 'LotFrontage', 'LotArea', 'OverallQual', 'GarageArea',\n",
      "       'YearRemodAdd'],\n",
      "      dtype='object')\n",
      "(1459, 6)\n"
     ]
    },
    {
     "data": {
      "text/html": [
       "<div>\n",
       "<style scoped>\n",
       "    .dataframe tbody tr th:only-of-type {\n",
       "        vertical-align: middle;\n",
       "    }\n",
       "\n",
       "    .dataframe tbody tr th {\n",
       "        vertical-align: top;\n",
       "    }\n",
       "\n",
       "    .dataframe thead th {\n",
       "        text-align: right;\n",
       "    }\n",
       "</style>\n",
       "<table border=\"1\" class=\"dataframe\">\n",
       "  <thead>\n",
       "    <tr style=\"text-align: right;\">\n",
       "      <th></th>\n",
       "      <th>MSSubClass</th>\n",
       "      <th>LotFrontage</th>\n",
       "      <th>LotArea</th>\n",
       "      <th>OverallQual</th>\n",
       "      <th>GarageArea</th>\n",
       "      <th>YearRemodAdd</th>\n",
       "    </tr>\n",
       "  </thead>\n",
       "  <tbody>\n",
       "    <tr>\n",
       "      <th>count</th>\n",
       "      <td>1459.000000</td>\n",
       "      <td>1459.000000</td>\n",
       "      <td>1459.000000</td>\n",
       "      <td>1459.000000</td>\n",
       "      <td>1459.000000</td>\n",
       "      <td>1459.000000</td>\n",
       "    </tr>\n",
       "    <tr>\n",
       "      <th>mean</th>\n",
       "      <td>57.378341</td>\n",
       "      <td>68.645648</td>\n",
       "      <td>9819.161069</td>\n",
       "      <td>6.078821</td>\n",
       "      <td>472.773818</td>\n",
       "      <td>1983.662783</td>\n",
       "    </tr>\n",
       "    <tr>\n",
       "      <th>std</th>\n",
       "      <td>42.746880</td>\n",
       "      <td>20.561791</td>\n",
       "      <td>4955.517327</td>\n",
       "      <td>1.436812</td>\n",
       "      <td>216.974247</td>\n",
       "      <td>21.130467</td>\n",
       "    </tr>\n",
       "    <tr>\n",
       "      <th>min</th>\n",
       "      <td>20.000000</td>\n",
       "      <td>21.000000</td>\n",
       "      <td>1470.000000</td>\n",
       "      <td>1.000000</td>\n",
       "      <td>0.000000</td>\n",
       "      <td>1950.000000</td>\n",
       "    </tr>\n",
       "    <tr>\n",
       "      <th>25%</th>\n",
       "      <td>20.000000</td>\n",
       "      <td>60.000000</td>\n",
       "      <td>7391.000000</td>\n",
       "      <td>5.000000</td>\n",
       "      <td>318.000000</td>\n",
       "      <td>1963.000000</td>\n",
       "    </tr>\n",
       "    <tr>\n",
       "      <th>50%</th>\n",
       "      <td>50.000000</td>\n",
       "      <td>69.000000</td>\n",
       "      <td>9399.000000</td>\n",
       "      <td>6.000000</td>\n",
       "      <td>480.000000</td>\n",
       "      <td>1992.000000</td>\n",
       "    </tr>\n",
       "    <tr>\n",
       "      <th>75%</th>\n",
       "      <td>70.000000</td>\n",
       "      <td>78.000000</td>\n",
       "      <td>11517.500000</td>\n",
       "      <td>7.000000</td>\n",
       "      <td>576.000000</td>\n",
       "      <td>2004.000000</td>\n",
       "    </tr>\n",
       "    <tr>\n",
       "      <th>max</th>\n",
       "      <td>190.000000</td>\n",
       "      <td>200.000000</td>\n",
       "      <td>56600.000000</td>\n",
       "      <td>10.000000</td>\n",
       "      <td>1488.000000</td>\n",
       "      <td>2010.000000</td>\n",
       "    </tr>\n",
       "  </tbody>\n",
       "</table>\n",
       "</div>"
      ],
      "text/plain": [
       "        MSSubClass  LotFrontage       LotArea  OverallQual   GarageArea  \\\n",
       "count  1459.000000  1459.000000   1459.000000  1459.000000  1459.000000   \n",
       "mean     57.378341    68.645648   9819.161069     6.078821   472.773818   \n",
       "std      42.746880    20.561791   4955.517327     1.436812   216.974247   \n",
       "min      20.000000    21.000000   1470.000000     1.000000     0.000000   \n",
       "25%      20.000000    60.000000   7391.000000     5.000000   318.000000   \n",
       "50%      50.000000    69.000000   9399.000000     6.000000   480.000000   \n",
       "75%      70.000000    78.000000  11517.500000     7.000000   576.000000   \n",
       "max     190.000000   200.000000  56600.000000    10.000000  1488.000000   \n",
       "\n",
       "       YearRemodAdd  \n",
       "count   1459.000000  \n",
       "mean    1983.662783  \n",
       "std       21.130467  \n",
       "min     1950.000000  \n",
       "25%     1963.000000  \n",
       "50%     1992.000000  \n",
       "75%     2004.000000  \n",
       "max     2010.000000  "
      ]
     },
     "execution_count": 159,
     "metadata": {},
     "output_type": "execute_result"
    }
   ],
   "source": [
    "x_test = pd.read_csv('house_test.csv')\n",
    "\n",
    "x_test = x_test[['MSSubClass','LotFrontage','LotArea','OverallQual','GarageArea','YearRemodAdd']]\n",
    "x_test = x_test.fillna(s_test.median())\n",
    "#x_test['YearBuilt']\n",
    "print(x_test.columns)\n",
    "print(x_test.shape)\n",
    "x_test.describe()"
   ]
  },
  {
   "cell_type": "code",
   "execution_count": 148,
   "metadata": {
    "scrolled": true
   },
   "outputs": [
    {
     "data": {
      "text/plain": [
       "0       1\n",
       "1       3\n",
       "2       1\n",
       "3       7\n",
       "4       1\n",
       "5       1\n",
       "6       1\n",
       "7       3\n",
       "8       6\n",
       "9       5\n",
       "10      3\n",
       "11      1\n",
       "12      3\n",
       "13      1\n",
       "14      3\n",
       "15      6\n",
       "16      3\n",
       "17      3\n",
       "18      1\n",
       "19      5\n",
       "20      1\n",
       "21      6\n",
       "22      1\n",
       "23      3\n",
       "24      3\n",
       "25      1\n",
       "26      5\n",
       "27      1\n",
       "28      5\n",
       "29      6\n",
       "       ..\n",
       "1430    1\n",
       "1431    3\n",
       "1432    6\n",
       "1433    1\n",
       "1434    3\n",
       "1435    3\n",
       "1436    3\n",
       "1437    1\n",
       "1438    5\n",
       "1439    3\n",
       "1440    7\n",
       "1441    1\n",
       "1442    1\n",
       "1443    7\n",
       "1444    1\n",
       "1445    3\n",
       "1446    3\n",
       "1447    1\n",
       "1448    7\n",
       "1449    3\n",
       "1450    3\n",
       "1451    1\n",
       "1452    1\n",
       "1453    1\n",
       "1454    1\n",
       "1455    1\n",
       "1456    3\n",
       "1457    5\n",
       "1458    5\n",
       "1459    3\n",
       "Name: YearBuilt, Length: 1460, dtype: category\n",
       "Categories (6, int64): [1 < 2 < 3 < 5 < 6 < 7]"
      ]
     },
     "execution_count": 148,
     "metadata": {},
     "output_type": "execute_result"
    }
   ],
   "source": [
    "#print(htrain.head())\n",
    "htrain[\"YearBuilt\"]\n",
    "#htrain.describe()"
   ]
  },
  {
   "cell_type": "code",
   "execution_count": 106,
   "metadata": {
    "scrolled": true
   },
   "outputs": [
    {
     "data": {
      "text/plain": [
       "<bound method Series.unique of 0        65.0\n",
       "1        80.0\n",
       "2        68.0\n",
       "3        60.0\n",
       "4        84.0\n",
       "5        85.0\n",
       "6        75.0\n",
       "7        69.0\n",
       "8        51.0\n",
       "9        50.0\n",
       "10       70.0\n",
       "11       85.0\n",
       "12       69.0\n",
       "13       91.0\n",
       "14       69.0\n",
       "15       51.0\n",
       "16       69.0\n",
       "17       72.0\n",
       "18       66.0\n",
       "19       70.0\n",
       "20      101.0\n",
       "21       57.0\n",
       "22       75.0\n",
       "23       44.0\n",
       "24       69.0\n",
       "25      110.0\n",
       "26       60.0\n",
       "27       98.0\n",
       "28       47.0\n",
       "29       60.0\n",
       "        ...  \n",
       "1430     60.0\n",
       "1431     69.0\n",
       "1432     60.0\n",
       "1433     93.0\n",
       "1434     80.0\n",
       "1435     80.0\n",
       "1436     60.0\n",
       "1437     96.0\n",
       "1438     90.0\n",
       "1439     80.0\n",
       "1440     79.0\n",
       "1441     69.0\n",
       "1442     85.0\n",
       "1443     69.0\n",
       "1444     63.0\n",
       "1445     70.0\n",
       "1446     69.0\n",
       "1447     80.0\n",
       "1448     70.0\n",
       "1449     21.0\n",
       "1450     60.0\n",
       "1451     78.0\n",
       "1452     35.0\n",
       "1453     90.0\n",
       "1454     62.0\n",
       "1455     62.0\n",
       "1456     85.0\n",
       "1457     66.0\n",
       "1458     68.0\n",
       "1459     75.0\n",
       "Name: LotFrontage, Length: 1460, dtype: float64>"
      ]
     },
     "execution_count": 106,
     "metadata": {},
     "output_type": "execute_result"
    }
   ],
   "source": [
    "#htrain.info()\n",
    "\n",
    "# avec describe nous voyons que lotFrontage manque des valeurs que nous allons remplacer par la valeur mediane\n",
    "htrain['LotFrontage'].unique\n",
    "htrain['LotFrontage'] = htrain['LotFrontage'].fillna(htrain['LotFrontage'].median())\n",
    "htrain['LotFrontage'].unique\n"
   ]
  },
  {
   "cell_type": "code",
   "execution_count": 109,
   "metadata": {},
   "outputs": [
    {
     "data": {
      "image/png": "[encoded data removed]",
      "text/plain": [
       "<matplotlib.figure.Figure at 0x273577a4240>"
      ]
     },
     "metadata": {},
     "output_type": "display_data"
    }
   ],
   "source": [
    "import matplotlib.pyplot as plt\n",
    "plt.scatter(htrain['LotFrontage'], htrain['SalePrice'])\n",
    "plt.show()"
   ]
  },
  {
   "cell_type": "code",
   "execution_count": 92,
   "metadata": {},
   "outputs": [
    {
     "data": {
      "text/plain": [
       "<matplotlib.axes._subplots.AxesSubplot at 0x27351fc8dd8>"
      ]
     },
     "execution_count": 92,
     "metadata": {},
     "output_type": "execute_result"
    },
    {
     "data": {
      "image/png": "[encoded data removed]",
      "text/plain": [
       "<matplotlib.figure.Figure at 0x27351fc32b0>"
      ]
     },
     "metadata": {},
     "output_type": "display_data"
    }
   ],
   "source": [
    "import seaborn as sns\n",
    "sns.barplot(x='MSSubClass', y='SalePrice', data=htrain)"
   ]
  },
  {
   "cell_type": "code",
   "execution_count": 113,
   "metadata": {},
   "outputs": [
    {
     "data": {
      "text/plain": [
       "<matplotlib.collections.PathCollection at 0x2735887b3c8>"
      ]
     },
     "execution_count": 113,
     "metadata": {},
     "output_type": "execute_result"
    },
    {
     "data": {
      "image/png": "[encoded data removed]",
      "text/plain": [
       "<matplotlib.figure.Figure at 0x27358dd34e0>"
      ]
     },
     "metadata": {},
     "output_type": "display_data"
    }
   ],
   "source": [
    "#dict of house year\n",
    "plt.scatter(htrain['LotArea'], htrain['SalePrice'])\n"
   ]
  },
  {
   "cell_type": "code",
   "execution_count": 94,
   "metadata": {},
   "outputs": [
    {
     "name": "stdout",
     "output_type": "stream",
     "text": [
      "   Id  MSSubClass  LotFrontage  LotArea  OverallQual  OverallCond  YearBuilt  \\\n",
      "0   1          60         65.0     8450            7            5       2003   \n",
      "1   2          20         80.0     9600            6            8       1976   \n",
      "2   3          60         68.0    11250            7            5       2001   \n",
      "3   4          70         60.0     9550            7            5       1915   \n",
      "4   5          60         84.0    14260            8            5       2000   \n",
      "\n",
      "   YearRemodAdd  MasVnrArea  BsmtFinSF1    ...      WoodDeckSF  OpenPorchSF  \\\n",
      "0          2003       196.0         706    ...               0           61   \n",
      "1          1976         0.0         978    ...             298            0   \n",
      "2          2002       162.0         486    ...               0           42   \n",
      "3          1970         0.0         216    ...               0           35   \n",
      "4          2000       350.0         655    ...             192           84   \n",
      "\n",
      "   EnclosedPorch  3SsnPorch  ScreenPorch  PoolArea  MiscVal  MoSold  YrSold  \\\n",
      "0              0          0            0         0        0       2    2008   \n",
      "1              0          0            0         0        0       5    2007   \n",
      "2              0          0            0         0        0       9    2008   \n",
      "3            272          0            0         0        0       2    2006   \n",
      "4              0          0            0         0        0      12    2008   \n",
      "\n",
      "   SalePrice  \n",
      "0     208500  \n",
      "1     181500  \n",
      "2     223500  \n",
      "3     140000  \n",
      "4     250000  \n",
      "\n",
      "[5 rows x 38 columns]\n"
     ]
    }
   ],
   "source": [
    "dtest=htrain.select_dtypes(include=['int64','float64']).head()\n",
    "print(dtest)"
   ]
  },
  {
   "cell_type": "code",
   "execution_count": 100,
   "metadata": {},
   "outputs": [],
   "source": [
    "#htrain['YearBuilt']"
   ]
  },
  {
   "cell_type": "code",
   "execution_count": 96,
   "metadata": {},
   "outputs": [
    {
     "name": "stdout",
     "output_type": "stream",
     "text": [
      "   Id  MSSubClass MSZoning  LotFrontage  LotArea Street Alley LotShape  \\\n",
      "0   1          60       RL         65.0     8450   Pave   NaN      Reg   \n",
      "1   2          20       RL         80.0     9600   Pave   NaN      Reg   \n",
      "2   3          60       RL         68.0    11250   Pave   NaN      IR1   \n",
      "3   4          70       RL         60.0     9550   Pave   NaN      IR1   \n",
      "4   5          60       RL         84.0    14260   Pave   NaN      IR1   \n",
      "\n",
      "  LandContour Utilities    ...     PoolArea PoolQC Fence MiscFeature MiscVal  \\\n",
      "0         Lvl    AllPub    ...            0    NaN   NaN         NaN       0   \n",
      "1         Lvl    AllPub    ...            0    NaN   NaN         NaN       0   \n",
      "2         Lvl    AllPub    ...            0    NaN   NaN         NaN       0   \n",
      "3         Lvl    AllPub    ...            0    NaN   NaN         NaN       0   \n",
      "4         Lvl    AllPub    ...            0    NaN   NaN         NaN       0   \n",
      "\n",
      "  MoSold YrSold  SaleType  SaleCondition  SalePrice  \n",
      "0      2   2008        WD         Normal     208500  \n",
      "1      5   2007        WD         Normal     181500  \n",
      "2      9   2008        WD         Normal     223500  \n",
      "3      2   2006        WD        Abnorml     140000  \n",
      "4     12   2008        WD         Normal     250000  \n",
      "\n",
      "[5 rows x 81 columns]\n"
     ]
    }
   ],
   "source": [
    "# calcule des ages des maisons\n",
    "import datetime \n",
    "date = datetime.datetime.now()\n",
    "htrain['YearBuilt'] = date.year - htrain['YearBuilt']\n",
    "print(htrain.head())\n"
   ]
  },
  {
   "cell_type": "code",
   "execution_count": null,
   "metadata": {},
   "outputs": [],
   "source": []
  },
  {
   "cell_type": "code",
   "execution_count": 97,
   "metadata": {
    "scrolled": true
   },
   "outputs": [
    {
     "data": {
      "text/plain": [
       "<bound method Series.unique of 0        7\n",
       "1       34\n",
       "2        9\n",
       "3       92\n",
       "4       10\n",
       "5       17\n",
       "6        6\n",
       "7       37\n",
       "8       76\n",
       "9       69\n",
       "10      45\n",
       "11       5\n",
       "12      48\n",
       "13       4\n",
       "14      50\n",
       "15      78\n",
       "16      40\n",
       "17      43\n",
       "18       6\n",
       "19      52\n",
       "20       5\n",
       "21      77\n",
       "22       8\n",
       "23      34\n",
       "24      42\n",
       "25       3\n",
       "26      59\n",
       "27       3\n",
       "28      53\n",
       "29      80\n",
       "        ..\n",
       "1430     5\n",
       "1431    34\n",
       "1432    80\n",
       "1433    10\n",
       "1434    33\n",
       "1435    48\n",
       "1436    39\n",
       "1437     2\n",
       "1438    53\n",
       "1439    31\n",
       "1440    85\n",
       "1441     6\n",
       "1442     2\n",
       "1443    91\n",
       "1444     6\n",
       "1445    44\n",
       "1446    48\n",
       "1447    15\n",
       "1448    97\n",
       "1449    40\n",
       "1450    36\n",
       "1451     2\n",
       "1452     5\n",
       "1453     4\n",
       "1454     6\n",
       "1455    11\n",
       "1456    32\n",
       "1457    67\n",
       "1458    60\n",
       "1459    45\n",
       "Name: YearBuilt, Length: 1460, dtype: int8>"
      ]
     },
     "execution_count": 97,
     "metadata": {},
     "output_type": "execute_result"
    }
   ],
   "source": [
    "import pandas as pd\n",
    "htrain['YearBuilt'] = htrain['YearBuilt'].astype('category')\n",
    "#print(df_ht)\n",
    "htrain['YearBuilt'] = htrain['YearBuilt'].cat.codes\n",
    "#htrain.dtypes\n",
    "htrain[\"YearBuilt\"].unique\n"
   ]
  },
  {
   "cell_type": "markdown",
   "metadata": {},
   "source": [
    "# traitement des données et visualisation"
   ]
  },
  {
   "cell_type": "code",
   "execution_count": 98,
   "metadata": {},
   "outputs": [
    {
     "data": {
      "text/plain": [
       "<matplotlib.axes._subplots.AxesSubplot at 0x273520b9908>"
      ]
     },
     "execution_count": 98,
     "metadata": {},
     "output_type": "execute_result"
    },
    {
     "data": {
      "image/png": "[encoded data removed]",
      "text/plain": [
       "<matplotlib.figure.Figure at 0x27351fc7f98>"
      ]
     },
     "metadata": {},
     "output_type": "display_data"
    }
   ],
   "source": [
    "cat_year ={\n",
    "    'dix':-10,\n",
    "    'vingt':20,\n",
    "    'quarante':30,\n",
    "    'cinq':50,\n",
    "    'sept':70,\n",
    "    'huit':80,\n",
    "    'cent':100\n",
    "}\n",
    "labels = [1,2,3,5,6,7]\n",
    "htrain['YearBuilt'] = pd.cut(htrain['YearBuilt'], bins = list(cat_year.values()),labels=labels)\n",
    "sns.barplot(x='YearBuilt',y='SalePrice', data=htrain)\n",
    "# les maisons de plus 30 et 40 ans ont les prix sesiblement egaux\n"
   ]
  },
  {
   "cell_type": "code",
   "execution_count": 146,
   "metadata": {
    "scrolled": true
   },
   "outputs": [],
   "source": [
    "htest = htrain.drop(['SalePrice'], axis=1)\n",
    "s_test = htest[['MSSubClass','LotFrontage','LotArea','OverallQual','GarageArea','YearRemodAdd']]\n",
    "s_test = s_test.fillna(s_test.median())\n",
    "#print(x_test)\n",
    "#h_set=htest.describe()"
   ]
  },
  {
   "cell_type": "markdown",
   "metadata": {},
   "source": [
    "# prediction"
   ]
  },
  {
   "cell_type": "code",
   "execution_count": 155,
   "metadata": {},
   "outputs": [
    {
     "ename": "ValueError",
     "evalue": "Found input variables with inconsistent numbers of samples: [1460, 1459]",
     "output_type": "error",
     "traceback": [
      "\u001b[1;31m---------------------------------------------------------------------------\u001b[0m",
      "\u001b[1;31mValueError\u001b[0m                                Traceback (most recent call last)",
      "\u001b[1;32m<ipython-input-155-5de6334aef8d>\u001b[0m in \u001b[0;36m<module>\u001b[1;34m()\u001b[0m\n\u001b[0;32m     11\u001b[0m \u001b[0mmodel\u001b[0m\u001b[1;33m.\u001b[0m\u001b[0mfit\u001b[0m\u001b[1;33m(\u001b[0m\u001b[0mX\u001b[0m\u001b[1;33m,\u001b[0m\u001b[0mY\u001b[0m\u001b[1;33m)\u001b[0m\u001b[1;33m\u001b[0m\u001b[0m\n\u001b[0;32m     12\u001b[0m \u001b[0mpredit\u001b[0m \u001b[1;33m=\u001b[0m \u001b[0mmodel\u001b[0m\u001b[1;33m.\u001b[0m\u001b[0mpredict\u001b[0m\u001b[1;33m(\u001b[0m\u001b[0mx_test\u001b[0m\u001b[1;33m)\u001b[0m\u001b[1;33m\u001b[0m\u001b[0m\n\u001b[1;32m---> 13\u001b[1;33m \u001b[0maccuracy_score\u001b[0m\u001b[1;33m(\u001b[0m\u001b[0mY\u001b[0m\u001b[1;33m,\u001b[0m \u001b[0mpredit\u001b[0m\u001b[1;33m)\u001b[0m\u001b[1;33m\u001b[0m\u001b[0m\n\u001b[0m\u001b[0;32m     14\u001b[0m \u001b[1;31m# traiter les données test pour changer les yearbuild en ages ancienneté\u001b[0m\u001b[1;33m\u001b[0m\u001b[1;33m\u001b[0m\u001b[0m\n",
      "\u001b[1;32m~\\AppData\\Local\\Continuum\\anaconda3\\lib\\site-packages\\sklearn\\metrics\\classification.py\u001b[0m in \u001b[0;36maccuracy_score\u001b[1;34m(y_true, y_pred, normalize, sample_weight)\u001b[0m\n\u001b[0;32m    174\u001b[0m \u001b[1;33m\u001b[0m\u001b[0m\n\u001b[0;32m    175\u001b[0m     \u001b[1;31m# Compute accuracy for each possible representation\u001b[0m\u001b[1;33m\u001b[0m\u001b[1;33m\u001b[0m\u001b[0m\n\u001b[1;32m--> 176\u001b[1;33m     \u001b[0my_type\u001b[0m\u001b[1;33m,\u001b[0m \u001b[0my_true\u001b[0m\u001b[1;33m,\u001b[0m \u001b[0my_pred\u001b[0m \u001b[1;33m=\u001b[0m \u001b[0m_check_targets\u001b[0m\u001b[1;33m(\u001b[0m\u001b[0my_true\u001b[0m\u001b[1;33m,\u001b[0m \u001b[0my_pred\u001b[0m\u001b[1;33m)\u001b[0m\u001b[1;33m\u001b[0m\u001b[0m\n\u001b[0m\u001b[0;32m    177\u001b[0m     \u001b[1;32mif\u001b[0m \u001b[0my_type\u001b[0m\u001b[1;33m.\u001b[0m\u001b[0mstartswith\u001b[0m\u001b[1;33m(\u001b[0m\u001b[1;34m'multilabel'\u001b[0m\u001b[1;33m)\u001b[0m\u001b[1;33m:\u001b[0m\u001b[1;33m\u001b[0m\u001b[0m\n\u001b[0;32m    178\u001b[0m         \u001b[0mdiffering_labels\u001b[0m \u001b[1;33m=\u001b[0m \u001b[0mcount_nonzero\u001b[0m\u001b[1;33m(\u001b[0m\u001b[0my_true\u001b[0m \u001b[1;33m-\u001b[0m \u001b[0my_pred\u001b[0m\u001b[1;33m,\u001b[0m \u001b[0maxis\u001b[0m\u001b[1;33m=\u001b[0m\u001b[1;36m1\u001b[0m\u001b[1;33m)\u001b[0m\u001b[1;33m\u001b[0m\u001b[0m\n",
      "\u001b[1;32m~\\AppData\\Local\\Continuum\\anaconda3\\lib\\site-packages\\sklearn\\metrics\\classification.py\u001b[0m in \u001b[0;36m_check_targets\u001b[1;34m(y_true, y_pred)\u001b[0m\n\u001b[0;32m     69\u001b[0m     \u001b[0my_pred\u001b[0m \u001b[1;33m:\u001b[0m \u001b[0marray\u001b[0m \u001b[1;32mor\u001b[0m \u001b[0mindicator\u001b[0m \u001b[0mmatrix\u001b[0m\u001b[1;33m\u001b[0m\u001b[0m\n\u001b[0;32m     70\u001b[0m     \"\"\"\n\u001b[1;32m---> 71\u001b[1;33m     \u001b[0mcheck_consistent_length\u001b[0m\u001b[1;33m(\u001b[0m\u001b[0my_true\u001b[0m\u001b[1;33m,\u001b[0m \u001b[0my_pred\u001b[0m\u001b[1;33m)\u001b[0m\u001b[1;33m\u001b[0m\u001b[0m\n\u001b[0m\u001b[0;32m     72\u001b[0m     \u001b[0mtype_true\u001b[0m \u001b[1;33m=\u001b[0m \u001b[0mtype_of_target\u001b[0m\u001b[1;33m(\u001b[0m\u001b[0my_true\u001b[0m\u001b[1;33m)\u001b[0m\u001b[1;33m\u001b[0m\u001b[0m\n\u001b[0;32m     73\u001b[0m     \u001b[0mtype_pred\u001b[0m \u001b[1;33m=\u001b[0m \u001b[0mtype_of_target\u001b[0m\u001b[1;33m(\u001b[0m\u001b[0my_pred\u001b[0m\u001b[1;33m)\u001b[0m\u001b[1;33m\u001b[0m\u001b[0m\n",
      "\u001b[1;32m~\\AppData\\Local\\Continuum\\anaconda3\\lib\\site-packages\\sklearn\\utils\\validation.py\u001b[0m in \u001b[0;36mcheck_consistent_length\u001b[1;34m(*arrays)\u001b[0m\n\u001b[0;32m    202\u001b[0m     \u001b[1;32mif\u001b[0m \u001b[0mlen\u001b[0m\u001b[1;33m(\u001b[0m\u001b[0muniques\u001b[0m\u001b[1;33m)\u001b[0m \u001b[1;33m>\u001b[0m \u001b[1;36m1\u001b[0m\u001b[1;33m:\u001b[0m\u001b[1;33m\u001b[0m\u001b[0m\n\u001b[0;32m    203\u001b[0m         raise ValueError(\"Found input variables with inconsistent numbers of\"\n\u001b[1;32m--> 204\u001b[1;33m                          \" samples: %r\" % [int(l) for l in lengths])\n\u001b[0m\u001b[0;32m    205\u001b[0m \u001b[1;33m\u001b[0m\u001b[0m\n\u001b[0;32m    206\u001b[0m \u001b[1;33m\u001b[0m\u001b[0m\n",
      "\u001b[1;31mValueError\u001b[0m: Found input variables with inconsistent numbers of samples: [1460, 1459]"
     ]
    }
   ],
   "source": [
    "#from sklearn import linear_model\n",
    "#from sklearn import datasets\n",
    "from sklearn.metrics import accuracy_score\n",
    "#from sklearn.model_selection import cross_val_predict\n",
    "from sklearn import linear_model\n",
    "import matplotlib.pyplot as plt\n",
    "model = linear_model.LinearRegression()\n",
    "Y = htrain['SalePrice']\n",
    "# prendre les 20% des données pour faire le test\n",
    "X = s_test\n",
    "#print(X)\n",
    "model.fit(X,Y)\n",
    "predit = model.predict(x_test)\n",
    "#accuracy_score(Y, predit)\n",
    "# traiter les données test pour changer les yearbuild en ages ancienneté\n"
   ]
  },
  {
   "cell_type": "code",
   "execution_count": null,
   "metadata": {},
   "outputs": [],
   "source": []
  }
 ],
 "metadata": {
  "kernelspec": {
   "display_name": "Python 3",
   "language": "python",
   "name": "python3"
  },
  "language_info": {
   "codemirror_mode": {
    "name": "ipython",
    "version": 3
   },
   "file_extension": ".py",
   "mimetype": "text/x-python",
   "name": "python",
   "nbconvert_exporter": "python",
   "pygments_lexer": "ipython3",
   "version": "3.6.4"
  }
 },
 "nbformat": 4,
 "nbformat_minor": 2
}
